{
 "cells": [
  {
   "cell_type": "markdown",
   "id": "23b6b719",
   "metadata": {},
   "source": [
    "# Introduction to torch.autograd"
   ]
  },
  {
   "cell_type": "markdown",
   "id": "faa8aa08",
   "metadata": {},
   "source": [
    "torch.autograd is PyTorch’s automatic differentiation engine that powers neural network training."
   ]
  },
  {
   "cell_type": "code",
   "execution_count": 1,
   "id": "20b592ad",
   "metadata": {},
   "outputs": [],
   "source": [
    "import torch\n",
    "from torch.autograd import Function"
   ]
  },
  {
   "cell_type": "code",
   "execution_count": 2,
   "id": "c02d9d4c",
   "metadata": {},
   "outputs": [],
   "source": [
    "x = torch.ones(5)  # input tensor no gradient\n",
    "y = torch.randn(5, requires_grad=True) # input tensor with gradient"
   ]
  },
  {
   "cell_type": "code",
   "execution_count": 3,
   "id": "58e8cdf4",
   "metadata": {},
   "outputs": [
    {
     "name": "stdout",
     "output_type": "stream",
     "text": [
      "tensor([-0.3011,  0.7023,  0.2741, -0.4140,  0.9647], requires_grad=True)\n"
     ]
    }
   ],
   "source": [
    "print(y)"
   ]
  },
  {
   "cell_type": "code",
   "execution_count": 4,
   "id": "38c77105",
   "metadata": {},
   "outputs": [
    {
     "data": {
      "text/plain": [
       "False"
      ]
     },
     "execution_count": 4,
     "metadata": {},
     "output_type": "execute_result"
    }
   ],
   "source": [
    "x.requires_grad"
   ]
  },
  {
   "cell_type": "code",
   "execution_count": 5,
   "id": "df1cdb36",
   "metadata": {},
   "outputs": [
    {
     "data": {
      "text/plain": [
       "True"
      ]
     },
     "execution_count": 5,
     "metadata": {},
     "output_type": "execute_result"
    }
   ],
   "source": [
    "y.requires_grad"
   ]
  },
  {
   "cell_type": "code",
   "execution_count": 6,
   "id": "ced4ba1d",
   "metadata": {},
   "outputs": [],
   "source": [
    "z = torch.sum(3*x**3 - y**2)\n"
   ]
  },
  {
   "cell_type": "code",
   "execution_count": 7,
   "id": "5a04648d",
   "metadata": {},
   "outputs": [
    {
     "data": {
      "text/plain": [
       "True"
      ]
     },
     "execution_count": 7,
     "metadata": {},
     "output_type": "execute_result"
    }
   ],
   "source": [
    "z.requires_grad"
   ]
  },
  {
   "cell_type": "code",
   "execution_count": 8,
   "id": "65ad057f",
   "metadata": {},
   "outputs": [
    {
     "name": "stdout",
     "output_type": "stream",
     "text": [
      "None\n"
     ]
    }
   ],
   "source": [
    "print(y.grad)"
   ]
  },
  {
   "cell_type": "code",
   "execution_count": 9,
   "id": "61e485e2",
   "metadata": {},
   "outputs": [],
   "source": [
    "z.backward() # dz/dy"
   ]
  },
  {
   "cell_type": "code",
   "execution_count": 10,
   "id": "c37e7557",
   "metadata": {},
   "outputs": [
    {
     "data": {
      "text/plain": [
       "tensor([ 0.6022, -1.4046, -0.5483,  0.8280, -1.9294])"
      ]
     },
     "execution_count": 10,
     "metadata": {},
     "output_type": "execute_result"
    }
   ],
   "source": [
    "y.grad"
   ]
  },
  {
   "cell_type": "code",
   "execution_count": null,
   "id": "d2b75534",
   "metadata": {},
   "outputs": [],
   "source": [
    "# y = torch.pow(x, 2) -> dy/dx = 2 * x\n",
    "class POW(Function):\n",
    "    def forward(self, x):\n",
    "        return torch.pox(x, 2)\n",
    "        \n",
    "    def backward(self, x):\n",
    "        return 2 * x"
   ]
  },
  {
   "cell_type": "markdown",
   "id": "27d61ce6",
   "metadata": {},
   "source": [
    "# Introduction to NN Package"
   ]
  },
  {
   "cell_type": "markdown",
   "id": "c4398704",
   "metadata": {},
   "source": [
    "Package that contains layers and functions needed to contruct a model"
   ]
  },
  {
   "cell_type": "code",
   "execution_count": null,
   "id": "ca40fd19",
   "metadata": {},
   "outputs": [],
   "source": [
    "from torch import nn"
   ]
  },
  {
   "cell_type": "code",
   "execution_count": null,
   "id": "463794ae",
   "metadata": {},
   "outputs": [],
   "source": [
    "# Convolution\n",
    "x = nn.Conv2d(in_channels=3, out_channels=32, kernel_size=3, stride=2, padding=1, bias=True) \n",
    "#Fully Connected\n",
    "x = nn.Linear(in_features=3*128*128, out_features=1024, bias=True)\n",
    "# Normalization\n",
    "x = nn.BatchNorm2d(num_features=32)\n",
    "x = nn.InstanceNorm2d(num_features=32)\n",
    "# Nonlinearities\n",
    "x = nn.ReLU() #ELU, GELU, RELU6...\n",
    "x = nn.Sigmoid()\n",
    "x = nn.Softmax()\n",
    "#Regularization\n",
    "x = nn.Dropout(p=0.5)"
   ]
  },
  {
   "cell_type": "code",
   "execution_count": null,
   "id": "675cdab2",
   "metadata": {},
   "outputs": [],
   "source": []
  }
 ],
 "metadata": {
  "kernelspec": {
   "display_name": "Python 3",
   "language": "python",
   "name": "python3"
  },
  "language_info": {
   "codemirror_mode": {
    "name": "ipython",
    "version": 3
   },
   "file_extension": ".py",
   "mimetype": "text/x-python",
   "name": "python",
   "nbconvert_exporter": "python",
   "pygments_lexer": "ipython3",
   "version": "3.6.9"
  }
 },
 "nbformat": 4,
 "nbformat_minor": 5
}
